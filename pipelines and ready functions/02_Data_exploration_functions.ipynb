{
 "cells": [
  {
   "cell_type": "markdown",
   "metadata": {},
   "source": [
    "# **Are u Ready to Explore the Data ?**\n",
    "* To explore the data u need to : \n",
    "\n",
    "    * Understand the data - types and structure using (simple exploration techniques head(),info(),describe()...etc).\n",
    "    * Numeric exploration (histogram, box-plot, distribution )\n",
    "    * Study the correlations between the attributes and the target."
   ]
  },
  {
   "cell_type": "markdown",
   "metadata": {},
   "source": [
    "## **Data Simple Exploration**"
   ]
  },
  {
   "cell_type": "code",
   "execution_count": 3,
   "metadata": {},
   "outputs": [
    {
     "name": "stdout",
     "output_type": "stream",
     "text": [
      "\n",
      "First Few Rows:\n",
      "   Age  Income  Experience  level\n",
      "0   25   50000         2.0     hi\n",
      "1   30   60000         5.0  hello\n",
      "2   35   75000         8.0   None\n",
      "3   40   80000        10.0  hello\n",
      "4   45   90000        12.0  hello\n",
      "DataFrame Info:\n",
      "<class 'pandas.core.frame.DataFrame'>\n",
      "RangeIndex: 10 entries, 0 to 9\n",
      "Data columns (total 4 columns):\n",
      " #   Column      Non-Null Count  Dtype  \n",
      "---  ------      --------------  -----  \n",
      " 0   Age         10 non-null     int64  \n",
      " 1   Income      10 non-null     int64  \n",
      " 2   Experience  9 non-null      float64\n",
      " 3   level       8 non-null      object \n",
      "dtypes: float64(1), int64(2), object(1)\n",
      "memory usage: 448.0+ bytes\n",
      "None\n",
      "\n",
      "Summary Statistics:\n",
      "             Age         Income  Experience\n",
      "count  10.000000      10.000000    9.000000\n",
      "mean   47.500000   95500.000000   13.555556\n",
      "std    15.138252   29856.136537    8.032918\n",
      "min    25.000000   50000.000000    2.000000\n",
      "25%    36.250000   76250.000000    8.000000\n",
      "50%    47.500000   95000.000000   12.000000\n",
      "75%    58.750000  117500.000000   20.000000\n",
      "max    70.000000  140000.000000   25.000000\n",
      "number of missing values for each column:\n",
      "Age           0\n",
      "Income        0\n",
      "Experience    1\n",
      "level         2\n",
      "dtype: int64\n",
      "Age           0.0\n",
      "Income        0.0\n",
      "Experience    0.1\n",
      "level         0.2\n",
      "dtype: float64\n"
     ]
    },
    {
     "data": {
      "image/png": "[encoded data removed]",
      "text/plain": [
       "<Figure size 800x600 with 1 Axes>"
      ]
     },
     "metadata": {},
     "output_type": "display_data"
    }
   ],
   "source": [
    "#!pip install pandas\n",
    "#!pip install matplotlib\n",
    "#!pip install seaborn\n",
    "\n",
    "import pandas as pd\n",
    "import matplotlib.pyplot as plt\n",
    "import seaborn as sns\n",
    "\n",
    "\n",
    "\n",
    "def explore_data_simple(dataframe):\n",
    "    \"\"\"\n",
    "    Perform exploratory data analysis (EDA) on a pandas DataFrame.\n",
    "\n",
    "    Parameters:\n",
    "        dataframe (pd.DataFrame): The DataFrame to explore.\n",
    "\n",
    "    Returns:\n",
    "        None\n",
    "    \"\"\"\n",
    "    # Display the first few rows of the DataFrame\n",
    "    print(\"\\nFirst Few Rows:\")\n",
    "    print(dataframe.head())\n",
    "\n",
    "    # Display basic information about the DataFrame\n",
    "    print(\"DataFrame Info:\")\n",
    "    print(dataframe.info())\n",
    "\n",
    "    # Display summary statistics\n",
    "    print(\"\\nSummary Statistics:\")\n",
    "    print(dataframe.describe())\n",
    "\n",
    "\n",
    "    # Get and visualize missing data\n",
    "    print(\"Number of missing values for each column:\") \n",
    "    print(dataframe.isna().sum())\n",
    "    print(\"Percentage of missing values for each column:\") \n",
    "    print(dataframe.isna().sum()/dataframe.shape[0])\n",
    "    plt.figure(figsize=(8, 6))\n",
    "    sns.heatmap(dataframe.isnull(), cmap=\"viridis\", cbar=False)\n",
    "    plt.title(\"Missing Data\")\n",
    "    plt.show()\n",
    "\n",
    "\n"
   ]
  },
  {
   "cell_type": "markdown",
   "metadata": {},
   "source": [
    "## **Numeric exploration**"
   ]
  },
  {
   "cell_type": "code",
   "execution_count": 10,
   "metadata": {},
   "outputs": [],
   "source": [
    "#!pip install pandas\n",
    "#!pip install matplotlib\n",
    "#!pip install seaborn\n",
    "\n",
    "import pandas as pd\n",
    "import matplotlib.pyplot as plt\n",
    "import seaborn as sns\n",
    "\n",
    "def numeric_exploration(dataframe):\n",
    "    \"\"\"\n",
    "    Visualize distributions of numeric columns in a pandas DataFrame.\n",
    "\n",
    "    Parameters:\n",
    "        dataframe (pd.DataFrame): The DataFrame containing the data.\n",
    "\n",
    "    Returns:\n",
    "        None\n",
    "    \"\"\"\n",
    "    # Select numeric columns\n",
    "    numeric_cols = dataframe.select_dtypes(include=['number']).columns\n",
    "\n",
    "    # Create subplots for histograms and box plots\n",
    "    fig, axes = plt.subplots(nrows=len(numeric_cols), ncols=2, figsize=(12, 6 * len(numeric_cols)))\n",
    "\n",
    "    for i, col in enumerate(numeric_cols):\n",
    "        # Plot histogram\n",
    "        sns.histplot(dataframe[col], ax=axes[i, 0], bins=20, kde=True)\n",
    "        axes[i, 0].set_title(f'Histogram of {col}')\n",
    "        \n",
    "        # Plot box plot\n",
    "        sns.boxplot(data=dataframe[col], ax=axes[i, 1])\n",
    "        axes[i, 1].set_title(f'Box Plot of {col}')\n",
    "\n",
    "    plt.tight_layout()\n",
    "    plt.show()\n"
   ]
  },
  {
   "cell_type": "markdown",
   "metadata": {},
   "source": [
    "# **Correlations**\n",
    "* Correlation measures quantify the relationship between two variables and provide insights into how they change together"
   ]
  },
  {
   "cell_type": "code",
   "execution_count": 11,
   "metadata": {},
   "outputs": [],
   "source": [
    "#!pip install pandas\n",
    "#!pip install matplotlib\n",
    "#!pip install seaborn\n",
    "\n",
    "import pandas as pd\n",
    "import matplotlib.pyplot as plt\n",
    "import seaborn as sns\n",
    "from pandas.plotting import scatter_matrix\n",
    "\n",
    "def calculate_correlations(dataframe, target_column):\n",
    "    \"\"\"\n",
    "    Calculate and visualize correlations between the target column and other numeric columns.\n",
    "\n",
    "    Parameters:\n",
    "        dataframe (pd.DataFrame): The DataFrame containing the data.\n",
    "        target_column (str): The target column for which correlations are calculated.\n",
    "\n",
    "    Returns:\n",
    "        None\n",
    "    \"\"\"\n",
    "    # Calculate Pearson and Spearman correlations\n",
    "    pearson_corr = dataframe.corr(method='pearson')[target_column]\n",
    "    spearman_corr = dataframe.corr(method='spearman')[target_column]\n",
    "\n",
    "    # Combine correlations into a DataFrame\n",
    "    correlations = pd.DataFrame({'Pearson': pearson_corr, 'Spearman': spearman_corr})\n",
    "\n",
    "    # Sort correlations in descending order\n",
    "    correlations = correlations.sort_values(by=['Pearson', 'Spearman'], ascending=False)\n",
    "\n",
    "    # Display correlations\n",
    "    print(\"Correlations with\", target_column)\n",
    "    print(correlations)\n",
    "\n",
    "    # Create a heatmap of correlations\n",
    "    plt.figure(figsize=(10, 6))\n",
    "    sns.heatmap(dataframe.corr(), annot=True, cmap=\"coolwarm\")\n",
    "    plt.title(\"Correlation Heatmap\")\n",
    "    plt.show()\n",
    "\n",
    "\n",
    "    # create scatter matrix \n",
    "    scatter_matrix(dataframe, figsize=(12, 8))\n",
    "\n"
   ]
  },
  {
   "cell_type": "code",
   "execution_count": null,
   "metadata": {},
   "outputs": [],
   "source": []
  }
 ],
 "metadata": {
  "kernelspec": {
   "display_name": "tensorflow",
   "language": "python",
   "name": "python3"
  },
  "language_info": {
   "codemirror_mode": {
    "name": "ipython",
    "version": 3
   },
   "file_extension": ".py",
   "mimetype": "text/x-python",
   "name": "python",
   "nbconvert_exporter": "python",
   "pygments_lexer": "ipython3",
   "version": "3.8.16"
  },
  "orig_nbformat": 4
 },
 "nbformat": 4,
 "nbformat_minor": 2
}
