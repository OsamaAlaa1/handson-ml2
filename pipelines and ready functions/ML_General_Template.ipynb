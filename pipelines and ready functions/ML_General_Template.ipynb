{
 "cells": [
  {
   "cell_type": "markdown",
   "metadata": {},
   "source": [
    "# **Machine Learning Template Notebook - (replaced by title)** \n",
    "* #### This notebook contains a general Template for any ML Project - (replaced by subtitle)\n",
    "  "
   ]
  },
  {
   "cell_type": "markdown",
   "metadata": {},
   "source": [
    "## **Introduction**\n",
    "* this template has being created to generalize the process of ML project (replaced by project's about and intro)"
   ]
  },
  {
   "cell_type": "markdown",
   "metadata": {},
   "source": [
    "## **Steps** \n",
    "\n",
    "1. Look at the big picture.\n",
    "2. Get the data.\n",
    "3. Discover and visualize the data to gain insights.\n",
    "4. Prepare the data for Machine Learning algorithms\n",
    "5. Select a model and train it.\n",
    "6. Fine-tune your model.\n",
    "7. Present your solution.\n",
    "8. Launch, monitor, and maintain your system\n",
    "\n",
    "#"
   ]
  },
  {
   "cell_type": "markdown",
   "metadata": {
    "tags": [
     "Look at the big picture"
    ]
   },
   "source": [
    "## **1. Look at the big picture.**\n",
    "* **Try to answer as much as u could for problem better understanding + it's ok if u couldn't answer them all :)**\n",
    "\n",
    "* Define the objective in business terms \n",
    " > **<font color=\"Green\"> type ur Answer here ... </font>**\n",
    "* How will your solution be used?\n",
    " > **<font color=\"Green\"> type ur Answer here ... </font>**\n",
    "* What are the current solutions/workarounds (if any)?\n",
    " > **<font color=\"Green\"> type ur Answer here ... </font>**\n",
    "* How should you frame this problem (supervised/unsupervised, online/offline,etc.)?\n",
    " > **<font color=\"Green\"> type ur Answer here ... </font>**\n",
    "* How should performance be measured? ex: RMSE, MAE\n",
    " > **<font color=\"Green\"> type ur Answer here ... </font>**\n",
    "* Is the performance measure aligned with the business objective?\n",
    " > **<font color=\"Green\"> type ur Answer here ... </font>**\n",
    "* What would be the minimum performance needed to reach the business objective?\n",
    " > **<font color=\"Green\"> type ur Answer here ... </font>**\n",
    "* What are comparable problems? Can you reuse experience or tools?\n",
    " > **<font color=\"Green\"> type ur Answer here ... </font>**\n",
    "* Is human expertise available?\n",
    " > **<font color=\"Green\"> type ur Answer here ... </font>**\n",
    "* How would you solve the problem manually?\n",
    " > **<font color=\"Green\"> type ur Answer here ... </font>**\n",
    "* List the assumptions you (or others) have made so far.\n",
    " > **<font color=\"Green\"> type ur Answer here ... </font>**\n",
    "* Verify assumptions if possible.\n",
    " > **<font color=\"Green\"> type ur Answer here ... </font>**\n",
    "\n",
    "#\n"
   ]
  },
  {
   "cell_type": "markdown",
   "metadata": {},
   "source": [
    "## **2. Get the data.**\n",
    "* Note: automate as much as possible so you can easily get fresh data.\n",
    "* **<font color=\"red\">Important: Go to Get Data Functions Notebook To explore and choose the needed functions for this step </font>**\n",
    "\n",
    "* List the data you need and how much you need.\n",
    " > **<font color=\"Green\"> type ur Answer here ... </font>**\n",
    "\n",
    "* Find and document where you can get that data.\n",
    " > **<font color=\"Green\"> type ur Answer here ... </font>**\n",
    "\n",
    "* Check how much space it will take.\n",
    " > **<font color=\"Green\"> type ur Answer here ... </font>**\n",
    "\n",
    "* Check legal obligations, and get authorization if necessary.\n",
    "* Get access authorizations.\n",
    "* Create a workspace (with enough storage space).\n",
    "* Get the data.\n",
    "* Convert the data to a format you can easily manipulate (without changing the data itself).\n",
    "* Ensure sensitive information is deleted or protected (e.g., anonymized).\n",
    "* Check the size and type of data (time series, sample, geographical, etc.).\n",
    "* Sample a test set, put it aside, and never look at it (no data snooping!).\n",
    "#\n"
   ]
  },
  {
   "cell_type": "code",
   "execution_count": null,
   "metadata": {},
   "outputs": [],
   "source": []
  },
  {
   "cell_type": "markdown",
   "metadata": {},
   "source": [
    "## **3. Discover and visualize the data to gain insights.** \n",
    "* **<font color=\"red\">Important: Go to Data Exploration functions Notebook To explore and choose the needed functions for this step </font>**\n",
    "* Create a copy of the data for exploration (sampling it down to a manageable size if necessary).\n",
    "* Create a Jupyter notebook to keep a record of your data exploration.\n",
    "* Study each attribute and its characteristics:\n",
    "    * Name\n",
    "    * Type (categorical, int/float, bounded/unbounded, text, structured, etc.)\n",
    "    * % of missing values\n",
    "    * Noisiness and type of noise (stochastic, outliers, rounding errors, etc.)\n",
    "    * Usefulness for the task\n",
    "    * Type of distribution (Gaussian, uniform, logarithmic, etc.)\n",
    "* For supervised learning tasks, identify the target attribute(s).\n",
    "* Visualize the data.\n",
    "* Study the correlations between attributes.\n",
    "* Study how you would solve the problem manually.\n",
    "* Identify the promising transformations you may want to apply.\n",
    "* Document what you have learned.\n",
    "\n",
    "#"
   ]
  },
  {
   "cell_type": "code",
   "execution_count": null,
   "metadata": {},
   "outputs": [],
   "source": []
  },
  {
   "cell_type": "markdown",
   "metadata": {},
   "source": [
    "## **4. Prepare the data for Machine Learning algorithms**\n",
    "* **<font color=\"red\">Important: Go to Data Preparation functions Notebook To explore and choose the needed functions for this step </font>**\n",
    "\n",
    "* #### **important: Work on copies of the data (keep the original dataset intact).**\n",
    "* #### **important: Write functions for all data transformations you apply, for five reasons:**\n",
    "\n",
    "    * So you can easily prepare the data the next time you get a fresh dataset\n",
    "    * So you can apply these transformations in future projects\n",
    "    * To clean and prepare the test set\n",
    "    * To clean and prepare new data instances once your solution is live\n",
    "    * To make it easy to treat your preparation choices as hyperparameters  \n",
    "\n",
    " * #### **Data cleaning:**\n",
    " \n",
    "   * Fix or remove outliers (optional).\n",
    "   * Fill in missing values (e.g., with zero, mean, median…) or drop thei rows (or columns).\n",
    "   #\n",
    "* #### **Feature selection (optional):**\n",
    "  * Drop the attributes that provide no useful information for the task.\n",
    "  #\n",
    "* #### **Feature engineering, where appropriate:**\n",
    "  * Discretize continuous features\n",
    "  * Decompose features (e.g., categorical, date/time, etc.).\n",
    "  * Add promising transformations of features (e.g., log(x), sqrt(x), x2,etc.).\n",
    "  * Aggregate features into promising new features.\n",
    "    \n",
    "#\n",
    "* #### **Feature scaling:**\n",
    "  * Standardize or normalize features\n",
    "  #"
   ]
  },
  {
   "cell_type": "code",
   "execution_count": null,
   "metadata": {},
   "outputs": [],
   "source": []
  },
  {
   "cell_type": "markdown",
   "metadata": {},
   "source": [
    "## **5. Shortlist Promising Models**\n",
    "* **<font color=\"red\">Important: Specify the task type (ex: regression, classification ... etc) then go to the related modeling functions Notebook to explore and choose the needed functions for this step </font>**\n",
    "\n",
    "* **Notes:**\n",
    "\n",
    "    * **If the data is huge, you may want to sample smaller training sets so you can train many different models in a reasonable time (be aware that this penalizes complex models such as large neural nets or Random Forests).**\n",
    "    \n",
    "    * **Once again, try to automate these steps as much as possible.**\n",
    "    * Train many quick-and-dirty models from different categories (e.g., linear, naive Bayes, SVM, Random Forest, neural net, etc.) using standard parameters.\n",
    "* Measure and compare their performance.\n",
    "    *   For each model, use N-fold cross-validation and compute the mean and standard deviation of the performance measure on the N folds.\n",
    "* Analyze the most significant variables for each algorithm.\n",
    "* Analyze the types of errors the models make.\n",
    "    *   What data would a human have used to avoid these errors?\n",
    "* Perform a quick round of feature selection and engineering.\n",
    "* Perform one or two more quick iterations of the five previous steps.\n",
    "* Shortlist the top three to five most promising models, preferring models that make different types of errors.\n",
    "#"
   ]
  },
  {
   "cell_type": "code",
   "execution_count": null,
   "metadata": {},
   "outputs": [],
   "source": []
  },
  {
   "cell_type": "markdown",
   "metadata": {},
   "source": [
    "## **6. Fine-Tune the System**\n",
    "* **<font color=\"red\">Important: Go to Data Fine Tune functions Notebook To explore and choose the needed functions for this step </font>**\n",
    "\n",
    "* **Notes:**\n",
    "\n",
    "    * **You will want to use as much data as possible for this step, especially as you movetoward the end of fine-tuning.**\n",
    "    * **As always, automate what you can.**\n",
    "\n",
    "* Fine-tune the hyperparameters using cross-validation:\n",
    "\n",
    "    * Treat your data transformation choices as hyperparameters, especially when you are not sure about them (e.g., if you’re not sure whether to replace missing values with zeros or with the median value, or to just drop the rows).\n",
    "\n",
    "    * Unless there are very few hyperparameter values to explore, prefer random search over grid search. If training is very long, you may prefer a Bayesian optimization approach (e.g., using Gaussian process priors, as described by Jasper Snoek et al.)\n",
    "\n",
    "* Try Ensemble methods. Combining your best models will often produce better performance than running them individually.\n",
    "\n",
    "* Once you are confident about your final model, measure its performance on the test set to estimate the generalization error.\n",
    "\n",
    "* Don’t tweak your model after measuring the generalization error: you would just start overfitting the test set.\n",
    "#"
   ]
  },
  {
   "cell_type": "code",
   "execution_count": null,
   "metadata": {},
   "outputs": [],
   "source": []
  },
  {
   "cell_type": "markdown",
   "metadata": {},
   "source": [
    "## **7. Present Your Solution**\n",
    "\n",
    "* **<font color=\"red\">Important: Go to Solution Presentation functions Notebook To explore and choose the needed functions for this step </font>**\n",
    "\n",
    "* Document what you have done.\n",
    "\n",
    "* Create a nice presentation.\n",
    "\n",
    "    *  Make sure you highlight the big picture first.\n",
    "    #\n",
    "* Explain why your solution achieves the business objective.\n",
    "\n",
    "* Don’t forget to present interesting points you noticed along the way.\n",
    "\n",
    "    * Describe what worked and what did not.\n",
    "    #\n",
    "*  • List your assumptions and your system’s limitations.\n",
    "\n",
    "**Ensure your key findings are communicated through beautiful visualizations or easy-to-remember statements (e.g., “the median income is the number-one pre‐dictor of housing prices”).**"
   ]
  },
  {
   "cell_type": "code",
   "execution_count": null,
   "metadata": {},
   "outputs": [],
   "source": []
  },
  {
   "cell_type": "markdown",
   "metadata": {},
   "source": [
    "## **8. Launch!** \n",
    "* **<font color=\"red\">Important: Go to Launch functions Notebook To explore and choose the needed functions for this step </font>**\n",
    "\n",
    "* Get your solution ready for production (plug into production data inputs, write unit tests, etc.).\n",
    "* Write monitoring code to check your system’s live performance at regular inter‐vals and trigger alerts when it drops.\n",
    "\n",
    "    * Beware of slow degradation: models tend to “rot” as data evolves.\n",
    "    * Measuring performance may require a human pipeline (e.g., via a crowdsourc‐ing service).\n",
    "    * Also monitor your inputs’ quality (e.g., a malfunctioning sensor sending ran‐dom values, or another team’s output becoming stale). This is particularly important for online learning systems.\n",
    "    \n",
    "* Retrain your models on a regular basis on fresh data (automate as much as possible)."
   ]
  },
  {
   "cell_type": "code",
   "execution_count": null,
   "metadata": {},
   "outputs": [],
   "source": []
  },
  {
   "cell_type": "markdown",
   "metadata": {},
   "source": [
    "#\n",
    "## **That's It ! Hope u enjoyed, best of luck ;)**"
   ]
  },
  {
   "cell_type": "markdown",
   "metadata": {},
   "source": []
  }
 ],
 "metadata": {
  "kernelspec": {
   "display_name": "tensorflow",
   "language": "python",
   "name": "python3"
  },
  "language_info": {
   "codemirror_mode": {
    "name": "ipython",
    "version": 3
   },
   "file_extension": ".py",
   "mimetype": "text/x-python",
   "name": "python",
   "nbconvert_exporter": "python",
   "pygments_lexer": "ipython3",
   "version": "3.8.16"
  },
  "orig_nbformat": 4
 },
 "nbformat": 4,
 "nbformat_minor": 2
}
